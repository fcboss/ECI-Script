{
 "cells": [
  {
   "cell_type": "code",
   "execution_count": 17,
   "metadata": {},
   "outputs": [
    {
     "name": "stdout",
     "output_type": "stream",
     "text": [
      "https://notify.run/Ac73n8U5v0lSegiE\n"
     ]
    }
   ],
   "source": [
    "from selenium import webdriver\n",
    "from selenium.webdriver.common.action_chains import ActionChains\n",
    "import time\n",
    "notify = Notify(endpoint='https://notify.run/Ac73n8U5v0lSegiE')\n",
    "\n",
    "print(notify.endpoint)\n",
    "mail = 'franciscolemoscaldas@gmail.com'\n",
    "passwd = ''"
   ]
  },
  {
   "cell_type": "code",
   "execution_count": null,
   "metadata": {},
   "outputs": [],
   "source": []
  },
  {
   "cell_type": "code",
   "execution_count": null,
   "metadata": {},
   "outputs": [
    {
     "name": "stdout",
     "output_type": "stream",
     "text": [
      "49\n"
     ]
    }
   ],
   "source": [
    "while True:\n",
    "    try:\n",
    "        browser = webdriver.Chrome(\"chromedriver\\chromedriver.exe\")\n",
    "        browser.implicitly_wait(3)\n",
    "        actions = ActionChains(browser)\n",
    "        browser.get('https://www.elcorteingles.pt/supermercado/')\n",
    "        login = browser.find_element_by_css_selector('.ts-login-desktop > .text')\n",
    "        login.click()\n",
    "        browser.find_element_by_id('cookies-agree').click()\n",
    "        browser.find_element_by_name('login').send_keys(mail)\n",
    "\n",
    "        browser.find_element_by_name('password').send_keys(passwd)\n",
    "\n",
    "        browser.find_element_by_xpath('/html/body/div[1]/div/div/div/div[2]/form/fieldset/div/div[2]/div/div[2]/input').click()\n",
    "        try:\n",
    "            time.sleep(3)\n",
    "            horario = browser.find_element_by_xpath('/html/body/div[3]/div[3]/div[2]/div/div[1]/div/div/div')\n",
    "            actions.move_to_element(horario).perform()\n",
    "            horario.click()\n",
    "            #actions.double_click(horario).perform()\n",
    "        except:\n",
    "            horario = browser.find_element_by_xpath('/html/body/div[3]/div[3]/div[2]/div/div[1]/div/div/div/span')\n",
    "\n",
    "            actions.move_to_element(horario).perform()\n",
    "\n",
    "            #actions.double_click(horario).perform()\n",
    "\n",
    "        nclosed=0\n",
    "        for i in range(56):\n",
    "            slot = browser.find_element_by_xpath(f'//*[@id=\"modalSlot\"]/div[1]/div[2]/div[3]/div/div/div[{i+1}]')\n",
    "            txt = slot.text[-8:]\n",
    "            if txt == 'COMPLETO':\n",
    "                nclosed+=1\n",
    "        print(nclosed)\n",
    "        if nclosed<49:\n",
    "            print('free slots!!')\n",
    "            notify.send('FREE SLOTS!!')\n",
    "        else:\n",
    "            #notify.send('No free slots :(')\n",
    "            browser.quit()\n",
    "            time.sleep(60*10)\n",
    "    except:\n",
    "        notify.send('Erro, começar de novo')\n"
   ]
  },
  {
   "cell_type": "code",
   "execution_count": 3,
   "metadata": {},
   "outputs": [
    {
     "ename": "NotConfigured",
     "evalue": "",
     "output_type": "error",
     "traceback": [
      "\u001b[1;31m---------------------------------------------------------------------------\u001b[0m",
      "\u001b[1;31mNotConfigured\u001b[0m                             Traceback (most recent call last)",
      "\u001b[1;32m<ipython-input-3-ad34c85438fc>\u001b[0m in \u001b[0;36m<module>\u001b[1;34m\u001b[0m\n\u001b[1;32m----> 1\u001b[1;33m \u001b[0mnotify\u001b[0m\u001b[1;33m.\u001b[0m\u001b[0msend\u001b[0m\u001b[1;33m(\u001b[0m\u001b[1;34m'FREE SLOTS!!'\u001b[0m\u001b[1;33m)\u001b[0m\u001b[1;33m\u001b[0m\u001b[1;33m\u001b[0m\u001b[0m\n\u001b[0m",
      "\u001b[1;32m~\\Anaconda3\\lib\\site-packages\\notify_run\\__init__.py\u001b[0m in \u001b[0;36msend\u001b[1;34m(self, message, action)\u001b[0m\n\u001b[0;32m    108\u001b[0m     \u001b[1;32mdef\u001b[0m \u001b[0msend\u001b[0m\u001b[1;33m(\u001b[0m\u001b[0mself\u001b[0m\u001b[1;33m,\u001b[0m \u001b[0mmessage\u001b[0m\u001b[1;33m,\u001b[0m \u001b[0maction\u001b[0m\u001b[1;33m=\u001b[0m\u001b[1;32mNone\u001b[0m\u001b[1;33m)\u001b[0m\u001b[1;33m:\u001b[0m\u001b[1;33m\u001b[0m\u001b[1;33m\u001b[0m\u001b[0m\n\u001b[0;32m    109\u001b[0m         \u001b[1;32mif\u001b[0m \u001b[0mself\u001b[0m\u001b[1;33m.\u001b[0m\u001b[0mendpoint\u001b[0m \u001b[1;32mis\u001b[0m \u001b[1;32mNone\u001b[0m\u001b[1;33m:\u001b[0m\u001b[1;33m\u001b[0m\u001b[1;33m\u001b[0m\u001b[0m\n\u001b[1;32m--> 110\u001b[1;33m             \u001b[1;32mraise\u001b[0m \u001b[0mNotConfigured\u001b[0m\u001b[1;33m(\u001b[0m\u001b[1;33m)\u001b[0m\u001b[1;33m\u001b[0m\u001b[1;33m\u001b[0m\u001b[0m\n\u001b[0m\u001b[0;32m    111\u001b[0m         \u001b[0mrequests\u001b[0m\u001b[1;33m.\u001b[0m\u001b[0mpost\u001b[0m\u001b[1;33m(\u001b[0m\u001b[0mself\u001b[0m\u001b[1;33m.\u001b[0m\u001b[0mendpoint\u001b[0m\u001b[1;33m,\u001b[0m \u001b[1;33m{\u001b[0m\u001b[1;34m'message'\u001b[0m\u001b[1;33m:\u001b[0m \u001b[0mmessage\u001b[0m\u001b[1;33m,\u001b[0m \u001b[1;34m'action'\u001b[0m\u001b[1;33m:\u001b[0m \u001b[0maction\u001b[0m\u001b[1;33m}\u001b[0m\u001b[1;33m)\u001b[0m\u001b[1;33m\u001b[0m\u001b[1;33m\u001b[0m\u001b[0m\n\u001b[0;32m    112\u001b[0m \u001b[1;33m\u001b[0m\u001b[0m\n",
      "\u001b[1;31mNotConfigured\u001b[0m: "
     ]
    }
   ],
   "source": [
    "notify.send('FREE SLOTS!!')"
   ]
  },
  {
   "cell_type": "code",
   "execution_count": null,
   "metadata": {},
   "outputs": [],
   "source": []
  },
  {
   "cell_type": "code",
   "execution_count": null,
   "metadata": {},
   "outputs": [],
   "source": []
  },
  {
   "cell_type": "code",
   "execution_count": null,
   "metadata": {},
   "outputs": [],
   "source": []
  },
  {
   "cell_type": "code",
   "execution_count": null,
   "metadata": {},
   "outputs": [],
   "source": []
  },
  {
   "cell_type": "code",
   "execution_count": null,
   "metadata": {},
   "outputs": [],
   "source": []
  },
  {
   "cell_type": "code",
   "execution_count": null,
   "metadata": {},
   "outputs": [],
   "source": []
  },
  {
   "cell_type": "code",
   "execution_count": null,
   "metadata": {},
   "outputs": [],
   "source": []
  }
 ],
 "metadata": {
  "kernelspec": {
   "display_name": "Python 3",
   "language": "python",
   "name": "python3"
  },
  "language_info": {
   "codemirror_mode": {
    "name": "ipython",
    "version": 3
   },
   "file_extension": ".py",
   "mimetype": "text/x-python",
   "name": "python",
   "nbconvert_exporter": "python",
   "pygments_lexer": "ipython3",
   "version": "3.7.6"
  }
 },
 "nbformat": 4,
 "nbformat_minor": 2
}
