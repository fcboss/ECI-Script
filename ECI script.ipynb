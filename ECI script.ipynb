{
 "cells": [
  {
   "cell_type": "code",
   "execution_count": null,
   "metadata": {},
   "outputs": [],
   "source": [
    "from selenium import webdriver\n",
    "from selenium.webdriver.common.action_chains import ActionChains\n",
    "from notify_run import Notify\n",
    "import time\n",
    "notify = Notify('Ac73n8U5v0lSegiE')\n",
    "notify.endpoint\n",
    "mail = ''\n",
    "passwd = ''"
   ]
  },
  {
   "cell_type": "code",
   "execution_count": null,
   "metadata": {},
   "outputs": [
    {
     "name": "stdout",
     "output_type": "stream",
     "text": [
      "49\n",
      "49\n"
     ]
    }
   ],
   "source": [
    "while True:\n",
    "    browser = webdriver.Chrome(r\"C:\\Users\\Francisco\\Downloads\\chromedriver\\chromedriver.exe\")\n",
    "    browser.implicitly_wait(3)\n",
    "    actions = ActionChains(browser)\n",
    "    browser.get('https://www.elcorteingles.pt/supermercado/')\n",
    "    login = browser.find_element_by_css_selector('.ts-login-desktop > .text')\n",
    "    login.click()\n",
    "    browser.find_element_by_id('cookies-agree').click()\n",
    "    browser.find_element_by_name('login').send_keys(mail)\n",
    "\n",
    "    browser.find_element_by_name('password').send_keys(passwd)\n",
    "\n",
    "    browser.find_element_by_xpath('/html/body/div[1]/div/div/div/div[2]/form/fieldset/div/div[2]/div/div[2]/input').click()\n",
    "    try:\n",
    "        horario = browser.find_element_by_xpath('/html/body/div[3]/div[3]/div[2]/div/div[1]/div/div/div')\n",
    "        actions.double_click(horario).perform()\n",
    "    except:\n",
    "        horario = browser.find_element_by_xpath('/html/body/div[3]/div[3]/div[2]/div/div[1]/div/div/div/span')\n",
    "        actions.double_click(horario).perform()\n",
    "\n",
    "    nclosed=0\n",
    "    for i in range(56):\n",
    "        slot = browser.find_element_by_xpath(f'//*[@id=\"modalSlot\"]/div[1]/div[2]/div[3]/div/div/div[{i+1}]')\n",
    "        txt = slot.text[-8:]\n",
    "        if txt == 'COMPLETO':\n",
    "            nclosed+=1\n",
    "    print(nclosed)\n",
    "    if nclosed<49:\n",
    "        print('free slots!!')\n",
    "        notify.send('FREE SLOTS!!')\n",
    "    else:\n",
    "        notify.send('No free slots :(')\n",
    "        browser.quit()\n",
    "        time.sleep(60*10)\n"
   ]
  },
  {
   "cell_type": "code",
   "execution_count": null,
   "metadata": {},
   "outputs": [],
   "source": []
  },
  {
   "cell_type": "code",
   "execution_count": null,
   "metadata": {},
   "outputs": [],
   "source": []
  },
  {
   "cell_type": "code",
   "execution_count": null,
   "metadata": {},
   "outputs": [],
   "source": []
  },
  {
   "cell_type": "code",
   "execution_count": null,
   "metadata": {},
   "outputs": [],
   "source": []
  },
  {
   "cell_type": "code",
   "execution_count": null,
   "metadata": {},
   "outputs": [],
   "source": []
  },
  {
   "cell_type": "code",
   "execution_count": null,
   "metadata": {},
   "outputs": [],
   "source": []
  },
  {
   "cell_type": "code",
   "execution_count": null,
   "metadata": {},
   "outputs": [],
   "source": []
  },
  {
   "cell_type": "code",
   "execution_count": null,
   "metadata": {},
   "outputs": [],
   "source": []
  }
 ],
 "metadata": {
  "kernelspec": {
   "display_name": "Python 3",
   "language": "python",
   "name": "python3"
  }
 },
 "nbformat": 4,
 "nbformat_minor": 2
}
