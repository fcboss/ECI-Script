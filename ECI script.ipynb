{
 "cells": [
  {
   "cell_type": "code",
   "execution_count": 2,
   "metadata": {},
   "outputs": [
    {
     "ename": "NameError",
     "evalue": "name 'Notify' is not defined",
     "output_type": "error",
     "traceback": [
      "\u001b[1;31m---------------------------------------------------------------------------\u001b[0m",
      "\u001b[1;31mNameError\u001b[0m                                 Traceback (most recent call last)",
      "\u001b[1;32m<ipython-input-2-937402f8683b>\u001b[0m in \u001b[0;36m<module>\u001b[1;34m\u001b[0m\n\u001b[0;32m      2\u001b[0m \u001b[1;32mfrom\u001b[0m \u001b[0mselenium\u001b[0m\u001b[1;33m.\u001b[0m\u001b[0mwebdriver\u001b[0m\u001b[1;33m.\u001b[0m\u001b[0mcommon\u001b[0m\u001b[1;33m.\u001b[0m\u001b[0maction_chains\u001b[0m \u001b[1;32mimport\u001b[0m \u001b[0mActionChains\u001b[0m\u001b[1;33m\u001b[0m\u001b[1;33m\u001b[0m\u001b[0m\n\u001b[0;32m      3\u001b[0m \u001b[1;32mimport\u001b[0m \u001b[0mtime\u001b[0m\u001b[1;33m\u001b[0m\u001b[1;33m\u001b[0m\u001b[0m\n\u001b[1;32m----> 4\u001b[1;33m \u001b[0mnotify\u001b[0m \u001b[1;33m=\u001b[0m \u001b[0mNotify\u001b[0m\u001b[1;33m(\u001b[0m\u001b[0mendpoint\u001b[0m\u001b[1;33m=\u001b[0m\u001b[1;34m'https://notify.run/Ac73n8U5v0lSegiE'\u001b[0m\u001b[1;33m)\u001b[0m\u001b[1;33m\u001b[0m\u001b[1;33m\u001b[0m\u001b[0m\n\u001b[0m\u001b[0;32m      5\u001b[0m \u001b[1;33m\u001b[0m\u001b[0m\n\u001b[0;32m      6\u001b[0m \u001b[0mprint\u001b[0m\u001b[1;33m(\u001b[0m\u001b[0mnotify\u001b[0m\u001b[1;33m.\u001b[0m\u001b[0mendpoint\u001b[0m\u001b[1;33m)\u001b[0m\u001b[1;33m\u001b[0m\u001b[1;33m\u001b[0m\u001b[0m\n",
      "\u001b[1;31mNameError\u001b[0m: name 'Notify' is not defined"
     ]
    }
   ],
   "source": [
    "from selenium import webdriver\n",
    "from selenium.webdriver.common.action_chains import ActionChains\n",
    "from notify_run import Notify\n",
    "\n",
    "import time\n",
    "notify = Notify(endpoint='https://notify.run/Ac73n8U5v0lSegiE')\n",
    "\n",
    "print(notify.endpoint)\n",
    "mail = 'franciscolemoscaldas@gmail.com'\n",
    "passwd = ''"
   ]
  },
  {
   "cell_type": "code",
   "execution_count": null,
   "metadata": {},
   "outputs": [],
   "source": []
  },
  {
   "cell_type": "code",
   "execution_count": null,
   "metadata": {},
   "outputs": [],
   "source": [
    "while True:\n",
    "    try:\n",
    "        browser = webdriver.Chrome(\"chromedriver\\chromedriver.exe\")\n",
    "        browser.implicitly_wait(3)\n",
    "        actions = ActionChains(browser)\n",
    "        browser.get('https://www.elcorteingles.pt/supermercado/')\n",
    "        login = browser.find_element_by_css_selector('.ts-login-desktop > .text')\n",
    "        login.click()\n",
    "        browser.find_element_by_id('cookies-agree').click()\n",
    "        browser.find_element_by_name('login').send_keys(mail)\n",
    "\n",
    "        browser.find_element_by_name('password').send_keys(passwd)\n",
    "\n",
    "        browser.find_element_by_xpath('/html/body/div[1]/div/div/div/div[2]/form/fieldset/div/div[2]/div/div[2]/input').click()\n",
    "        try:\n",
    "            time.sleep(3)\n",
    "            horario = browser.find_element_by_xpath('/html/body/div[3]/div[3]/div[2]/div/div[1]/div/div/div')\n",
    "            actions.move_to_element(horario).perform()\n",
    "            horario.click()\n",
    "            #actions.double_click(horario).perform()\n",
    "        except:\n",
    "            horario = browser.find_element_by_xpath('/html/body/div[3]/div[3]/div[2]/div/div[1]/div/div/div/span')\n",
    "\n",
    "            actions.move_to_element(horario).perform()\n",
    "\n",
    "            #actions.double_click(horario).perform()\n",
    "\n",
    "        nclosed=0\n",
    "        for i in range(56):\n",
    "            slot = browser.find_element_by_xpath(f'//*[@id=\"modalSlot\"]/div[1]/div[2]/div[3]/div/div/div[{i+1}]')\n",
    "            txt = slot.text[-8:]\n",
    "            if txt == 'COMPLETO':\n",
    "                nclosed+=1\n",
    "        print(nclosed)\n",
    "        if nclosed<49:\n",
    "            print('free slots!!')\n",
    "            notify.send('FREE SLOTS!!')\n",
    "        else:\n",
    "            #notify.send('No free slots :(')\n",
    "            browser.quit()\n",
    "            time.sleep(60*10)\n",
    "    except:\n",
    "        notify.send('Erro, começar de novo')\n"
   ]
  },
  {
   "cell_type": "code",
   "execution_count": null,
   "metadata": {},
   "outputs": [],
   "source": []
  },
  {
   "cell_type": "code",
   "execution_count": null,
   "metadata": {},
   "outputs": [],
   "source": []
  },
  {
   "cell_type": "code",
   "execution_count": null,
   "metadata": {},
   "outputs": [],
   "source": []
  },
  {
   "cell_type": "code",
   "execution_count": null,
   "metadata": {},
   "outputs": [],
   "source": []
  },
  {
   "cell_type": "code",
   "execution_count": null,
   "metadata": {},
   "outputs": [],
   "source": []
  },
  {
   "cell_type": "code",
   "execution_count": null,
   "metadata": {},
   "outputs": [],
   "source": []
  },
  {
   "cell_type": "code",
   "execution_count": null,
   "metadata": {},
   "outputs": [],
   "source": []
  }
 ],
 "metadata": {
  "kernelspec": {
   "display_name": "Python 3",
   "language": "python",
   "name": "python3"
  }
 },
 "nbformat": 4,
 "nbformat_minor": 2
}
